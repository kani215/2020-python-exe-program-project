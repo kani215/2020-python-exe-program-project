{
 "cells": [
  {
   "cell_type": "code",
   "execution_count": 4,
   "metadata": {},
   "outputs": [
    {
     "name": "stdout",
     "output_type": "stream",
     "text": [
      "미등록 문서 번호 :  4, 6\n"
     ]
    }
   ],
   "source": [
    "import glob\n",
    "import time\n",
    "file_list = glob.glob('*.pdf')\n",
    "do_not_submit = []\n",
    "\n",
    "# data processing\n",
    "for i in file_list :\n",
    "    temp = list(i)\n",
    "    temp1 = int(temp[5]+temp[6]+temp[7])\n",
    "    do_not_submit.append(temp1)\n",
    "    \n",
    "# Descending\n",
    "do_not_submit = set(do_not_submit)\n",
    "do_not_submit =list(do_not_submit)\n",
    "do_not_submit.sort()\n",
    "\n",
    "num = []\n",
    "for i in range(do_not_submit[-1],0,-1) :\n",
    "    find = do_not_submit[-1]\n",
    "    if i == find :\n",
    "        do_not_submit.pop()\n",
    "        continue\n",
    "    else :\n",
    "        num.append(i)\n",
    "num.sort()\n",
    "for i in range(len(num)) :\n",
    "    num[i] = str(num[i])\n",
    "    \n",
    "print(\"미등록 문서 번호 : \",\", \".join(num))\n",
    "\n",
    "    \n",
    "\n",
    "time.sleep(60)"
   ]
  }
 ],
 "metadata": {
  "kernelspec": {
   "display_name": "Python 3",
   "language": "python",
   "name": "python3"
  },
  "language_info": {
   "codemirror_mode": {
    "name": "ipython",
    "version": 3
   },
   "file_extension": ".py",
   "mimetype": "text/x-python",
   "name": "python",
   "nbconvert_exporter": "python",
   "pygments_lexer": "ipython3",
   "version": "3.8.3"
  }
 },
 "nbformat": 4,
 "nbformat_minor": 4
}
